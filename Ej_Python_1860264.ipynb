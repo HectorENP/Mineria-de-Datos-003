{
 "cells": [
  {
   "cell_type": "markdown",
   "metadata": {},
   "source": [
    "# Ejercicio 1"
   ]
  },
  {
   "cell_type": "markdown",
   "metadata": {},
   "source": [
    "Realiza una variable con tu matricula y realiza una secuencia de imprimir con tu nombre y tu matricula concatenados."
   ]
  },
  {
   "cell_type": "code",
   "execution_count": null,
   "metadata": {},
   "outputs": [],
   "source": [
    "mt=1860264\n",
    "name='Hector Yair Garza Amaya'\n",
    "print(name,mt)"
   ]
  },
  {
   "cell_type": "markdown",
   "metadata": {},
   "source": [
    "# Ejercicio 2"
   ]
  },
  {
   "cell_type": "markdown",
   "metadata": {},
   "source": [
    "Pidiendo el input del usuario pide dos números y crea una pequeña calculadora con los operadores básicos de suma, resta, multiplicación, división, y exponente."
   ]
  },
  {
   "cell_type": "code",
   "execution_count": null,
   "metadata": {},
   "outputs": [],
   "source": [
    "d1 = int(input(\"Introduce un número:\" ))\n",
    "d2 = int(input(\"Introduce otro número: \"))\n",
    "\n",
    "print (\"Suma de los numeros: \",d1+d2 )\n",
    "print(\"Resta de los numeros: \",d1-d2 )\n",
    "print(\"Multiplicacion de los numeros: \",d1*d2 )\n",
    "print(\"Division de los numeros: \",d1/d2 )\n",
    "print(\"Primer numero elevado al segundo: \",d1**d2 )"
   ]
  },
  {
   "cell_type": "markdown",
   "metadata": {},
   "source": [
    "# Ejercicio 3"
   ]
  },
  {
   "cell_type": "markdown",
   "metadata": {},
   "source": [
    "Con loop while o for, realiza una lista de 10 numeros multiplos de 3, y después realiza una función de loop que sume todos los números dentro del arreglo."
   ]
  },
  {
   "cell_type": "code",
   "execution_count": 3,
   "metadata": {},
   "outputs": [
    {
     "name": "stdout",
     "output_type": "stream",
     "text": [
      "3\n",
      "6\n",
      "9\n",
      "12\n",
      "15\n",
      "18\n",
      "21\n",
      "24\n",
      "27\n",
      "30\n",
      "La suma de los numeros es:  165\n"
     ]
    }
   ],
   "source": [
    "i=1\n",
    "b=0\n",
    "su=0\n",
    "while i<=10:\n",
    "    b=b+3\n",
    "    su=su+b\n",
    "    #la variable su hace la cuenta de los numeros\n",
    "    print(b)\n",
    "    i=i+1\n",
    "\n",
    "print('La suma de los numeros es: ',su)"
   ]
  },
  {
   "cell_type": "markdown",
   "metadata": {},
   "source": [
    "# Ejercicio 4"
   ]
  },
  {
   "cell_type": "markdown",
   "metadata": {},
   "source": [
    "Con una función de if else, revisar si un número es par o es impar.\n"
   ]
  },
  {
   "cell_type": "code",
   "execution_count": 9,
   "metadata": {},
   "outputs": [
    {
     "name": "stdout",
     "output_type": "stream",
     "text": [
      "Introduce un número:34\n",
      "Su numero es par\n"
     ]
    }
   ],
   "source": [
    "n = int(input(\"Introduce un número:\" ))\n",
    "if n%2==0:\n",
    "    print('Su numero es par')\n",
    "else:\n",
    "    print('Su numero es impar')"
   ]
  },
  {
   "cell_type": "markdown",
   "metadata": {},
   "source": [
    "Con una función de if else, revisar si un número es primo o no."
   ]
  },
  {
   "cell_type": "code",
   "execution_count": 25,
   "metadata": {},
   "outputs": [
    {
     "name": "stdout",
     "output_type": "stream",
     "text": [
      "Introduce un número:71\n",
      "Su numero es primo\n"
     ]
    }
   ],
   "source": [
    "n = int(input(\"Introduce un número:\" ))\n",
    "count=0\n",
    "#count cuenta el numero de veces que un numero es divisible\n",
    "for i in range(2,n):\n",
    "    if n%i==0:\n",
    "        count=count+1\n",
    "\n",
    "if count==0:\n",
    "    print('Su numero es primo')\n",
    "else:\n",
    "    print('Su numero no es primo')\n",
    "    "
   ]
  },
  {
   "cell_type": "markdown",
   "metadata": {},
   "source": [
    "# Ejercicio 5"
   ]
  },
  {
   "cell_type": "markdown",
   "metadata": {},
   "source": [
    "Utilizando diferentes clases en python, crea una calculadora con los operadores básicos de suma, resta, multiplicación, división, y exponente."
   ]
  },
  {
   "cell_type": "code",
   "execution_count": 145,
   "metadata": {},
   "outputs": [
    {
     "name": "stdout",
     "output_type": "stream",
     "text": [
      "Calculadora Virtual\n",
      "Ingresa una opción:\n",
      "1. Suma\n",
      "2. Resta\n",
      "3. Multiplicación\n",
      "4. División\n",
      "5. Potencia\n",
      "6. Salir\n",
      "\n",
      "Opcion:4\n",
      "Ingresa un número: 5\n",
      "Ingresa otro número: 7\n",
      "Cociente de los números:  0.7142857142857143\n",
      "Ingresa una opción:\n",
      "1. Suma\n",
      "2. Resta\n",
      "3. Multiplicación\n",
      "4. División\n",
      "5. Potencia\n",
      "6. Salir\n",
      "\n",
      "Opcion:3\n",
      "Ingresa un número: 45\n",
      "Ingresa otro número: 7\n",
      "Producto de los números:  315.0\n",
      "Ingresa una opción:\n",
      "1. Suma\n",
      "2. Resta\n",
      "3. Multiplicación\n",
      "4. División\n",
      "5. Potencia\n",
      "6. Salir\n",
      "\n",
      "Opcion:6\n",
      "Gracias por calcular :)\n"
     ]
    }
   ],
   "source": [
    "op=1\n",
    "# op define que operacion se va a realizar\n",
    "print('Calculadora Virtual')\n",
    "while op!=6:\n",
    "    op=int(input('Ingresa una opción:\\n1. Suma\\n2. Resta\\n3. Multiplicación\\n4. División\\n5. Potencia\\n6. Salir\\n\\nOpcion:'))\n",
    "    while op<1 or op>6:\n",
    "        op=int(input(\"Intente de nuevo \"))\n",
    "    if op==1:\n",
    "        a=float(input(\"Ingresa un número: \"))\n",
    "        b=float(input(\"Ingresa otro número: \"))\n",
    "        r=a+b\n",
    "        print(\"Suma de los números: \",r)\n",
    "    if op==2:\n",
    "        a=float(input(\"Ingresa un número: \"))\n",
    "        b=float(input(\"Ingresa otro número: \"))\n",
    "        r=a-b\n",
    "        print(\"Resta de los números: \",r)\n",
    "    if op==3:\n",
    "        a=float(input(\"Ingresa un número: \"))\n",
    "        b=float(input(\"Ingresa otro número: \"))\n",
    "        r=a*b\n",
    "        print(\"Producto de los números: \",r)\n",
    "    if op==4:\n",
    "        a=float(input(\"Ingresa un número: \"))\n",
    "        b=float(input(\"Ingresa otro número: \"))\n",
    "        r=a/b\n",
    "        print(\"Cociente de los números: \",r)\n",
    "    if op==5:\n",
    "        a=float(input(\"Ingresa un número: \"))\n",
    "        b=float(input(\"Ingresa otro número: \"))\n",
    "        r=a**b\n",
    "        print('Número elevado al otro:',r)\n",
    "print('Gracias por calcular :)')\n"
   ]
  },
  {
   "cell_type": "markdown",
   "metadata": {},
   "source": [
    "# Ejercicios con estructuras básicas de python."
   ]
  },
  {
   "cell_type": "markdown",
   "metadata": {},
   "source": [
    "# Tuplas"
   ]
  },
  {
   "cell_type": "markdown",
   "metadata": {},
   "source": [
    "Crear una variable flotante, integer, boleana y compleja e imprimir el tipo de variable que es.\n",
    "\n",
    "Crear una tupla con valores enteros imprimir el primer y ultimo valor.\n",
    "\n",
    "Añadir 3 valores de string a la tupla.\n",
    "\n",
    "Verificar si una variable existe dentro de la tupla."
   ]
  },
  {
   "cell_type": "code",
   "execution_count": 18,
   "metadata": {},
   "outputs": [
    {
     "name": "stdout",
     "output_type": "stream",
     "text": [
      "La variable 1.435 es de tipo <class 'float'>\n",
      "La variable 67 es de tipo <class 'int'>\n",
      "La variable False es de tipo <class 'bool'>\n",
      "La variable 673j es de tipo <class 'complex'>\n"
     ]
    }
   ],
   "source": [
    "nf=1.435\n",
    "ni=67\n",
    "b=False\n",
    "c=673j\n",
    "print('La variable',nf,'es de tipo',type(nf))\n",
    "print('La variable',ni,'es de tipo',type(ni))\n",
    "print('La variable',b,'es de tipo',type(b))\n",
    "print('La variable',c,'es de tipo',type(c))"
   ]
  },
  {
   "cell_type": "code",
   "execution_count": 30,
   "metadata": {},
   "outputs": [
    {
     "name": "stdout",
     "output_type": "stream",
     "text": [
      "Primer Valor: 23\n",
      "Ultimo valor: 676\n"
     ]
    }
   ],
   "source": [
    "t=(23,34,56,23,56,7,66,35,89,676)\n",
    "l=len(t)\n",
    "print('Primer Valor:',t[0])\n",
    "print('Ultimo valor:',t[l-1])"
   ]
  },
  {
   "cell_type": "code",
   "execution_count": 36,
   "metadata": {},
   "outputs": [
    {
     "name": "stdout",
     "output_type": "stream",
     "text": [
      "Buscar variable:no\n",
      "La variable esta en la tupla\n"
     ]
    }
   ],
   "source": [
    "t=(23,34,56,23,56,7,66,35,89,676,'si','no','tal vez')\n",
    "va=input('Buscar variable:')\n",
    "if va in t:\n",
    "    print('La variable esta en la tupla')\n",
    "else:\n",
    "    print('La variable no está en la tupla')\n",
    "\n"
   ]
  },
  {
   "cell_type": "markdown",
   "metadata": {},
   "source": [
    "# Listas"
   ]
  },
  {
   "cell_type": "markdown",
   "metadata": {},
   "source": [
    "Crear una lista con 40 elementos aleatorios enteros.\n",
    "\n",
    "Con una funcion (def) crear dos listas nuevas a partir de la lista creada por numeros aleatorios, en la cual en una esten los elementos pares, y en la otra los elementos impares.\n",
    "\n",
    "Crear dos variables con la longitud de ambas listas nuevas e imprimir las variables.\n",
    "\n",
    "Ordenar los elementos de la lista par de mayor a menor, y los de la lista impar de menor a mayor.\n",
    "\n",
    "Utilizar al menos cuatro de las funciones de listas en python en la lista original de 40 elementos."
   ]
  },
  {
   "cell_type": "code",
   "execution_count": 143,
   "metadata": {},
   "outputs": [
    {
     "name": "stdout",
     "output_type": "stream",
     "text": [
      "Lista: [54, 72, 3, 76, 26, 43, 84, 41, 48, 51, 39, 7, 71, 12, 21, 34, 98, 88, 79, 58, 16, 99, 73, 95, 19, 44, 45, 17, 8, 61, 25, 86, 91, 62, 67, 18, 0, 92, 97, 29]\n",
      "\n",
      "Numeros pares de la lista:  [54, 72, 76, 26, 84, 48, 12, 34, 98, 88, 58, 16, 44, 8, 86, 62, 18, 0, 92] \n",
      "\n",
      "Numeros impares de la lista:  [3, 43, 41, 51, 39, 7, 71, 21, 79, 99, 73, 95, 19, 45, 17, 61, 25, 91, 67, 97, 29]\n",
      "\n",
      "Cantidad de pares:  19 \n",
      "\n",
      "Cantidad de impares: 17\n",
      "\n",
      "Numeros pares de mayor a menos:  [98, 92, 88, 86, 84, 76, 72, 62, 58, 54, 48, 44, 34, 26, 18, 16, 12, 8, 0]\n",
      "\n",
      "Numeros impares de menor a mayor:  [3, 7, 17, 19, 21, 25, 29, 39, 41, 43, 45, 51, 61, 67, 71, 73, 79, 91, 95, 97, 99]\n",
      "\n",
      "Suma de los numeros:  2049\n",
      "\n",
      "Promedio de los numeros:  51.225\n",
      "\n",
      "Numero menor de la lista:  0\n",
      "\n",
      "Numero maypr de la lista:  99\n"
     ]
    }
   ],
   "source": [
    " import random\n",
    "def par(l):\n",
    "    par=list()\n",
    "    for a in l:\n",
    "        if a%2==0:\n",
    "            par.append(a)\n",
    "    return par\n",
    "\n",
    "def impar(l):\n",
    "    impar=list()\n",
    "    for a in l:\n",
    "        if a%2!=0:\n",
    "            impar.append(a)\n",
    "    return impar\n",
    "\n",
    "la=list()\n",
    "lb=list()\n",
    "A=range(0,100)\n",
    "l=random.sample(A,40)\n",
    "print(\"Lista:\",l)\n",
    "la=par(l)\n",
    "lb=impar(l)\n",
    "print(\"\\nNumeros pares de la lista: \",la,\"\\n\\nNumeros impares de la lista: \",lb)\n",
    "lp=len(l1)\n",
    "li=len(l2)\n",
    "print(\"\\nCantidad de pares: \",lp,\"\\n\\nCantidad de impares:\",li)\n",
    "lb.sort()\n",
    "laord=sorted(la,reverse=True) \n",
    "la=laord\n",
    "print(\"\\nNumeros pares de mayor a menos: \",la)\n",
    "print(\"\\nNumeros impares de menor a mayor: \",lb)\n",
    "\n",
    "mini=min(l)\n",
    "maxi=max(l)\n",
    "suma=sum(l)\n",
    "prom=suma/40\n",
    "l.sort()\n",
    "\n",
    "print(\"\\nSuma de los numeros: \",suma)\n",
    "print(\"\\nPromedio de los numeros: \",prom)\n",
    "print(\"\\nNumero menor de la lista: \",mini)\n",
    "print(\"\\nNumero maypr de la lista: \",maxi)\n"
   ]
  },
  {
   "cell_type": "markdown",
   "metadata": {},
   "source": [
    "# Diccionarios"
   ]
  },
  {
   "cell_type": "markdown",
   "metadata": {},
   "source": [
    "Crear un diccionario de 6 personas que conozcas con su primer nombre y su edad.\n",
    "\n",
    "Crear una lista con los valores de la edad y reacomodar la lista de menor a mayor valor.\n",
    "\n",
    "Usando el diccionario y un loop, imprimir solo los nombres.\n",
    "\n",
    "Añadir dos personas nuevas a tu diccionario, incluyendo edad."
   ]
  },
  {
   "cell_type": "code",
   "execution_count": 144,
   "metadata": {},
   "outputs": [
    {
     "name": "stdout",
     "output_type": "stream",
     "text": [
      "Lista de personas con edades:  {'Sebas': 20, 'Ceviche': 19, 'Barbosa': 19, 'Alsina': 19, 'Cepillo': 19, 'Andre': 20}\n",
      "\n",
      "Lista de edades de menor a mayor [19, 19, 19, 19, 20, 20]\n",
      "\n",
      "Lista de nombres: \n",
      "Sebas\n",
      "Ceviche\n",
      "Barbosa\n",
      "Alsina\n",
      "Cepillo\n",
      "Andre\n",
      "\n",
      "Lista actualizada:  {'Sebas': 20, 'Ceviche': 19, 'Barbosa': 19, 'Alsina': 19, 'Cepillo': 19, 'Andre': 20, 'El panda': 22, 'El duende': 20}\n"
     ]
    }
   ],
   "source": [
    "lista={'Sebas':20,'Ceviche':19,'Barbosa':19,'Alsina':19,'Cepillo':19,'Andre':20}\n",
    "print(\"Lista de personas con edades: \",lista)\n",
    "ages=list()\n",
    "for ed in lista:\n",
    "    ages.append(lista[ed])\n",
    "ages.sort()\n",
    "print(\"\\nLista de edades de menor a mayor\",ages)\n",
    "print(\"\\nLista de nombres: \")\n",
    "nombres=lista.keys() \n",
    "for nombre in nombres:\n",
    "    print(nombre)\n",
    "lista['El panda']=22\n",
    "lista['El duende']=20\n",
    "print(\"\\nLista actualizada: \",lista)\n"
   ]
  },
  {
   "cell_type": "markdown",
   "metadata": {},
   "source": [
    "# Sets"
   ]
  },
  {
   "cell_type": "markdown",
   "metadata": {},
   "source": [
    "Crea un set con 100 numeros aleatorios enteros del 1 al 25.\n",
    "\n",
    "Comprueba la longitud de tu set.\n",
    "\n",
    "Crea una lista de 5 numeros aleatorios del 1 al 10 y comprueba si cada valor aparece en el set inicial.\n"
   ]
  },
  {
   "cell_type": "code",
   "execution_count": 168,
   "metadata": {},
   "outputs": [
    {
     "name": "stdout",
     "output_type": "stream",
     "text": [
      "Lista: [8, 5, 37, 39, 89, 14, 25, 87, 71, 95, 41, 93, 50, 23, 96, 13, 28, 7, 31, 74, 79, 6, 47, 53, 45, 52, 65, 32, 36, 43, 27, 19, 73, 99, 97, 30, 33, 64, 55, 40, 80, 42, 69, 10, 9, 77, 66, 68, 21, 56, 17, 86, 70, 44, 88, 12, 0, 49, 84, 4, 54, 22, 92, 26, 63, 18, 91, 57, 24, 34, 75, 83, 81, 82, 46, 76, 60, 20, 90, 3, 11, 2, 1, 62, 98, 67, 59, 15, 16, 51, 29, 58, 78, 35, 85, 48, 38, 72, 94, 61]\n",
      "\n",
      "Longitud del set 100\n",
      "\n",
      "Lista: [4, 5, 1, 8, 3]\n",
      "4 Esta en la lista\n",
      "5 Esta en la lista\n",
      "1 Esta en la lista\n",
      "8 Esta en la lista\n",
      "3 Esta en la lista\n"
     ]
    }
   ],
   "source": [
    "A=range(0,100)\n",
    "l=random.sample(A,100)\n",
    "print(\"Lista:\",l)\n",
    "\n",
    "count=len(l)\n",
    "print('\\nLongitud del set',count)\n",
    "\n",
    "A=range(1,10)\n",
    "la=random.sample(A,5)\n",
    "print(\"\\nLista:\",la)\n",
    "\n",
    "for n in la:\n",
    "    if n in la:\n",
    "        print(n,'Esta en la lista')\n",
    "    else:\n",
    "        print(n,'No esta en la lista')\n",
    "\n",
    "\n",
    "\n",
    "\n"
   ]
  },
  {
   "cell_type": "code",
   "execution_count": null,
   "metadata": {},
   "outputs": [],
   "source": []
  }
 ],
 "metadata": {
  "kernelspec": {
   "display_name": "Python 3",
   "language": "python",
   "name": "python3"
  },
  "language_info": {
   "codemirror_mode": {
    "name": "ipython",
    "version": 3
   },
   "file_extension": ".py",
   "mimetype": "text/x-python",
   "name": "python",
   "nbconvert_exporter": "python",
   "pygments_lexer": "ipython3",
   "version": "3.8.5"
  }
 },
 "nbformat": 4,
 "nbformat_minor": 4
}
